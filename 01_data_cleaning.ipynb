{
 "cells": [
  {
   "cell_type": "markdown",
   "id": "38607890",
   "metadata": {},
   "source": [
    "# Data Cleaning\n",
    "Let's start by building the DataFrame with all the personal expenses and check if there are missing values or any anomalies to take care of. "
   ]
  },
  {
   "cell_type": "code",
   "execution_count": null,
   "id": "b2cd18c8",
   "metadata": {
    "vscode": {
     "languageId": "plaintext"
    }
   },
   "outputs": [],
   "source": []
  }
 ],
 "metadata": {
  "language_info": {
   "name": "python"
  }
 },
 "nbformat": 4,
 "nbformat_minor": 5
}
